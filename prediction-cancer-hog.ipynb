{
 "cells": [
  {
   "cell_type": "code",
   "execution_count": 1,
   "id": "339e3ccd-533c-49eb-9bb8-87d075a17df2",
   "metadata": {},
   "outputs": [],
   "source": [
    "from tensorflow.keras.preprocessing import image\n",
    "import numpy as np\n",
    "import os\n",
    "from sklearn.model_selection import train_test_split\n",
    "from tensorflow.keras.utils import to_categorical\n",
    "import hpelm\n",
    "from sklearn.metrics import accuracy_score, classification_report, confusion_matrix\n",
    "from skimage.feature import hog\n",
    "from skimage import color, io"
   ]
  },
  {
   "cell_type": "code",
   "execution_count": 2,
   "id": "0aecf96d-6fba-4ada-8c42-e9c97392b4a5",
   "metadata": {},
   "outputs": [],
   "source": [
    "dataset_dir = 'The IQ-OTHNCCD lung cancer dataset/'\n",
    "X = []\n",
    "y = []\n",
    "\n",
    "for label, class_name in enumerate(os.listdir(dataset_dir)):\n",
    "    class_folder = os.path.join(dataset_dir, class_name)\n",
    "    if os.path.isdir(class_folder):\n",
    "        for filename in os.listdir(class_folder):\n",
    "            img_path = os.path.join(class_folder, filename)\n",
    "            img = image.load_img(img_path, target_size=(224, 224))\n",
    "            img_array = image.img_to_array(img)\n",
    "            img_gray = color.rgb2gray(img_array)\n",
    "            features, _ = hog(img_gray, pixels_per_cell=(8, 8), cells_per_block=(2, 2), visualize=True)\n",
    "            X.append(features)\n",
    "            y.append(label)\n",
    "\n",
    "X = np.array(X)\n",
    "y = np.array(y)"
   ]
  },
  {
   "cell_type": "code",
   "execution_count": 3,
   "id": "55283b19-2173-497d-9812-2f5e954a39fe",
   "metadata": {},
   "outputs": [
    {
     "data": {
      "text/plain": [
       "array([0, 0, 0, ..., 2, 2, 2])"
      ]
     },
     "execution_count": 3,
     "metadata": {},
     "output_type": "execute_result"
    }
   ],
   "source": [
    "y"
   ]
  },
  {
   "cell_type": "code",
   "execution_count": 4,
   "id": "3675a1d0-53b1-43b1-a824-e2ff4f2a31a4",
   "metadata": {},
   "outputs": [],
   "source": [
    "X_train, X_test, y_train, y_test = train_test_split(X, y, test_size=0.2, random_state=42)\n",
    "y_train_one_hot = to_categorical(y_train, num_classes=3)\n",
    "y_test_one_hot = to_categorical(y_test, num_classes=3)"
   ]
  },
  {
   "cell_type": "code",
   "execution_count": 5,
   "id": "05771ca2-a693-4f28-bdbe-adcb4f9bc7d7",
   "metadata": {},
   "outputs": [],
   "source": [
    "elm = hpelm.HPELM(X_train.shape[1], y_train_one_hot.shape[1])\n",
    "elm.add_neurons(250, \"sigm\")\n",
    "\n",
    "elm.train(X_train, y_train_one_hot, \"c\")"
   ]
  },
  {
   "cell_type": "code",
   "execution_count": 6,
   "id": "58bdea6b-6048-4c64-b4b9-39de3b7be9a4",
   "metadata": {},
   "outputs": [],
   "source": [
    "# Memprediksi data uji\n",
    "y_pred_prob = elm.predict(X_test)\n",
    "y_pred = np.argmax(y_pred_prob, axis=1)"
   ]
  },
  {
   "cell_type": "code",
   "execution_count": 7,
   "id": "5a2ddac7-7287-408f-a14d-d97fc67b7412",
   "metadata": {},
   "outputs": [
    {
     "name": "stdout",
     "output_type": "stream",
     "text": [
      "Accuracy: 0.91\n",
      "Classification Report:\n",
      "              precision    recall  f1-score   support\n",
      "\n",
      "           0       0.95      0.62      0.75        29\n",
      "           1       0.95      0.97      0.96       109\n",
      "           2       0.87      0.94      0.90        82\n",
      "\n",
      "    accuracy                           0.91       220\n",
      "   macro avg       0.92      0.84      0.87       220\n",
      "weighted avg       0.92      0.91      0.91       220\n",
      "\n",
      "Confusion Matrix:\n",
      "[[ 18   2   9]\n",
      " [  0 106   3]\n",
      " [  1   4  77]]\n"
     ]
    }
   ],
   "source": [
    "# Menyiapkan label uji dalam format yang sesuai\n",
    "y_test_labels = np.argmax(y_test_one_hot, axis=1)\n",
    "accuracy = accuracy_score(y_test_labels, y_pred)\n",
    "classification_rep = classification_report(y_test_labels, y_pred)\n",
    "confusion_mat = confusion_matrix(y_test_labels, y_pred)\n",
    "\n",
    "print(f\"Accuracy: {accuracy:.2f}\")\n",
    "print(f\"Classification Report:\\n{classification_rep}\")\n",
    "print(f\"Confusion Matrix:\\n{confusion_mat}\")"
   ]
  },
  {
   "cell_type": "code",
   "execution_count": 8,
   "id": "e490ea94-7188-4161-9381-d0ac9c9112b9",
   "metadata": {},
   "outputs": [],
   "source": [
    "elm.save('model_elm')"
   ]
  },
  {
   "cell_type": "code",
   "execution_count": null,
   "id": "91190d16-c6f7-4b22-9e35-6371f0264802",
   "metadata": {},
   "outputs": [],
   "source": []
  }
 ],
 "metadata": {
  "kernelspec": {
   "display_name": "Python 3 (ipykernel)",
   "language": "python",
   "name": "python3"
  },
  "language_info": {
   "codemirror_mode": {
    "name": "ipython",
    "version": 3
   },
   "file_extension": ".py",
   "mimetype": "text/x-python",
   "name": "python",
   "nbconvert_exporter": "python",
   "pygments_lexer": "ipython3",
   "version": "3.11.1"
  }
 },
 "nbformat": 4,
 "nbformat_minor": 5
}
